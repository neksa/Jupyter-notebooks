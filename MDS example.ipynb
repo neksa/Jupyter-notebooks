{
 "cells": [
  {
   "cell_type": "code",
   "execution_count": 93,
   "metadata": {
    "collapsed": false
   },
   "outputs": [
    {
     "name": "stdout",
     "output_type": "stream",
     "text": [
      "Stress 0.0235698278762\n"
     ]
    },
    {
     "data": {
      "image/png": "[encoded data removed]",
      "text/plain": [
       "<matplotlib.figure.Figure at 0x7f2c242cf9e8>"
      ]
     },
     "metadata": {},
     "output_type": "display_data"
    }
   ],
   "source": [
    "import numpy as np\n",
    "import matplotlib.pyplot as plt\n",
    "from sklearn import manifold\n",
    "%matplotlib inline\n",
    "\n",
    "D = np.array([[0, 10, 6], [10, 0, 5], [6, 5, 0]])\n",
    "\n",
    "M = manifold.MDS(n_components=2, n_init=1, max_iter=10000, metric=True, dissimilarity=\"precomputed\")\n",
    "K = M.fit_transform(D)\n",
    "print(\"Stress\", M.stress_)\n",
    "\n",
    "fig = plt.figure()\n",
    "ax = fig.add_subplot(111)\n",
    "ax.patch.set_facecolor('white')\n",
    "ax.scatter(K[...,0], K[...,1], c=(\"red\", \"green\", \"blue\"), s=120, edgecolors='none')\n",
    "ax.set_autoscale_on(False)\n",
    "ax.axis('square')\n",
    "\n",
    "ax.set_xlabel('R1')\n",
    "ax.set_ylabel('R2')\n",
    "fig.suptitle(\"MDS\")\n",
    "plt.show()\n"
   ]
  },
  {
   "cell_type": "code",
   "execution_count": null,
   "metadata": {
    "collapsed": true
   },
   "outputs": [],
   "source": []
  },
  {
   "cell_type": "code",
   "execution_count": null,
   "metadata": {
    "collapsed": true
   },
   "outputs": [],
   "source": []
  }
 ],
 "metadata": {
  "kernelspec": {
   "display_name": "Python 3",
   "language": "python",
   "name": "python3"
  },
  "language_info": {
   "codemirror_mode": {
    "name": "ipython",
    "version": 3
   },
   "file_extension": ".py",
   "mimetype": "text/x-python",
   "name": "python",
   "nbconvert_exporter": "python",
   "pygments_lexer": "ipython3",
   "version": "3.4.3"
  }
 },
 "nbformat": 4,
 "nbformat_minor": 0
}
